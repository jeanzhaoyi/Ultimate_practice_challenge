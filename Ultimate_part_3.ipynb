{
 "cells": [
  {
   "cell_type": "code",
   "execution_count": 7,
   "metadata": {
    "collapsed": true
   },
   "outputs": [],
   "source": [
    "import pandas as pd\n",
    "import numpy as np\n",
    "import re\n",
    "import json\n",
    "import matplotlib.pyplot as plt\n",
    "import seaborn as sns"
   ]
  },
  {
   "cell_type": "code",
   "execution_count": 15,
   "metadata": {
    "collapsed": false
   },
   "outputs": [
    {
     "data": {
      "text/html": [
       "<div>\n",
       "<table border=\"1\" class=\"dataframe\">\n",
       "  <thead>\n",
       "    <tr style=\"text-align: right;\">\n",
       "      <th></th>\n",
       "      <th>avg_dist</th>\n",
       "      <th>avg_rating_by_driver</th>\n",
       "      <th>avg_rating_of_driver</th>\n",
       "      <th>avg_surge</th>\n",
       "      <th>city</th>\n",
       "      <th>last_trip_date</th>\n",
       "      <th>phone</th>\n",
       "      <th>signup_date</th>\n",
       "      <th>surge_pct</th>\n",
       "      <th>trips_in_first_30_days</th>\n",
       "      <th>ultimate_black_user</th>\n",
       "      <th>weekday_pct</th>\n",
       "    </tr>\n",
       "  </thead>\n",
       "  <tbody>\n",
       "    <tr>\n",
       "      <th>0</th>\n",
       "      <td>3.67</td>\n",
       "      <td>5.0</td>\n",
       "      <td>4.7</td>\n",
       "      <td>1.10</td>\n",
       "      <td>King's Landing</td>\n",
       "      <td>2014-06-17</td>\n",
       "      <td>iPhone</td>\n",
       "      <td>2014-01-25</td>\n",
       "      <td>15.4</td>\n",
       "      <td>4</td>\n",
       "      <td>True</td>\n",
       "      <td>46.2</td>\n",
       "    </tr>\n",
       "    <tr>\n",
       "      <th>1</th>\n",
       "      <td>8.26</td>\n",
       "      <td>5.0</td>\n",
       "      <td>5.0</td>\n",
       "      <td>1.00</td>\n",
       "      <td>Astapor</td>\n",
       "      <td>2014-05-05</td>\n",
       "      <td>Android</td>\n",
       "      <td>2014-01-29</td>\n",
       "      <td>0.0</td>\n",
       "      <td>0</td>\n",
       "      <td>False</td>\n",
       "      <td>50.0</td>\n",
       "    </tr>\n",
       "    <tr>\n",
       "      <th>2</th>\n",
       "      <td>0.77</td>\n",
       "      <td>5.0</td>\n",
       "      <td>4.3</td>\n",
       "      <td>1.00</td>\n",
       "      <td>Astapor</td>\n",
       "      <td>2014-01-07</td>\n",
       "      <td>iPhone</td>\n",
       "      <td>2014-01-06</td>\n",
       "      <td>0.0</td>\n",
       "      <td>3</td>\n",
       "      <td>False</td>\n",
       "      <td>100.0</td>\n",
       "    </tr>\n",
       "    <tr>\n",
       "      <th>3</th>\n",
       "      <td>2.36</td>\n",
       "      <td>4.9</td>\n",
       "      <td>4.6</td>\n",
       "      <td>1.14</td>\n",
       "      <td>King's Landing</td>\n",
       "      <td>2014-06-29</td>\n",
       "      <td>iPhone</td>\n",
       "      <td>2014-01-10</td>\n",
       "      <td>20.0</td>\n",
       "      <td>9</td>\n",
       "      <td>True</td>\n",
       "      <td>80.0</td>\n",
       "    </tr>\n",
       "    <tr>\n",
       "      <th>4</th>\n",
       "      <td>3.13</td>\n",
       "      <td>4.9</td>\n",
       "      <td>4.4</td>\n",
       "      <td>1.19</td>\n",
       "      <td>Winterfell</td>\n",
       "      <td>2014-03-15</td>\n",
       "      <td>Android</td>\n",
       "      <td>2014-01-27</td>\n",
       "      <td>11.8</td>\n",
       "      <td>14</td>\n",
       "      <td>False</td>\n",
       "      <td>82.4</td>\n",
       "    </tr>\n",
       "  </tbody>\n",
       "</table>\n",
       "</div>"
      ],
      "text/plain": [
       "   avg_dist  avg_rating_by_driver  avg_rating_of_driver  avg_surge  \\\n",
       "0      3.67                   5.0                   4.7       1.10   \n",
       "1      8.26                   5.0                   5.0       1.00   \n",
       "2      0.77                   5.0                   4.3       1.00   \n",
       "3      2.36                   4.9                   4.6       1.14   \n",
       "4      3.13                   4.9                   4.4       1.19   \n",
       "\n",
       "             city last_trip_date    phone signup_date  surge_pct  \\\n",
       "0  King's Landing     2014-06-17   iPhone  2014-01-25       15.4   \n",
       "1         Astapor     2014-05-05  Android  2014-01-29        0.0   \n",
       "2         Astapor     2014-01-07   iPhone  2014-01-06        0.0   \n",
       "3  King's Landing     2014-06-29   iPhone  2014-01-10       20.0   \n",
       "4      Winterfell     2014-03-15  Android  2014-01-27       11.8   \n",
       "\n",
       "   trips_in_first_30_days ultimate_black_user  weekday_pct  \n",
       "0                       4                True         46.2  \n",
       "1                       0               False         50.0  \n",
       "2                       3               False        100.0  \n",
       "3                       9                True         80.0  \n",
       "4                      14               False         82.4  "
      ]
     },
     "execution_count": 15,
     "metadata": {},
     "output_type": "execute_result"
    }
   ],
   "source": [
    "data_file = json.load(open(\"ultimate_data_challenge.json\"))\n",
    "data = pd.DataFrame(data_file)\n",
    "data.head()"
   ]
  },
  {
   "cell_type": "code",
   "execution_count": 5,
   "metadata": {
    "collapsed": false
   },
   "outputs": [
    {
     "name": "stdout",
     "output_type": "stream",
     "text": [
      "<class 'pandas.core.frame.DataFrame'>\n",
      "RangeIndex: 50000 entries, 0 to 49999\n",
      "Data columns (total 12 columns):\n",
      "avg_dist                  50000 non-null float64\n",
      "avg_rating_by_driver      49799 non-null float64\n",
      "avg_rating_of_driver      41878 non-null float64\n",
      "avg_surge                 50000 non-null float64\n",
      "city                      50000 non-null object\n",
      "last_trip_date            50000 non-null object\n",
      "phone                     49604 non-null object\n",
      "signup_date               50000 non-null object\n",
      "surge_pct                 50000 non-null float64\n",
      "trips_in_first_30_days    50000 non-null int64\n",
      "ultimate_black_user       50000 non-null bool\n",
      "weekday_pct               50000 non-null float64\n",
      "dtypes: bool(1), float64(6), int64(1), object(4)\n",
      "memory usage: 4.2+ MB\n"
     ]
    }
   ],
   "source": [
    "data.info()"
   ]
  },
  {
   "cell_type": "markdown",
   "metadata": {},
   "source": [
    "* 'last_trip_date' and 'signup_date' need to be converted into strings or timestamps\n",
    "* 'city, and 'phone' need to be converted into strings as categorical variables. For machine learning analyses, they need to be expanded into bionary variables.\n",
    "* 'ultimate_black_user' need to be converted into a binary variable for machine learning methods"
   ]
  },
  {
   "cell_type": "code",
   "execution_count": 16,
   "metadata": {
    "collapsed": true
   },
   "outputs": [],
   "source": [
    "data.city = data.city.astype(str)\n",
    "data.phone = data.phone.astype(str)\n",
    "\n",
    "data.last_trip_date = data.last_trip_date.astype(str)\n",
    "data.signup_date = data.signup_date.astype(str)"
   ]
  },
  {
   "cell_type": "code",
   "execution_count": 42,
   "metadata": {
    "collapsed": false
   },
   "outputs": [
    {
     "name": "stdout",
     "output_type": "stream",
     "text": [
      "2014-01-01T00:00:00.000000000 \n",
      " 2014-01-31T00:00:00.000000000\n"
     ]
    }
   ],
   "source": [
    "signup_timestamps = [pd.Timestamp(x) for x in data.signup_date]\n",
    "# set the signup date as the index name\n",
    "print(signup_timestamps.min(),'\\n',signup_timestamps.max() )"
   ]
  },
  {
   "cell_type": "markdown",
   "metadata": {},
   "source": [
    "### 1. Descriptive statistics and data wrangling"
   ]
  },
  {
   "cell_type": "code",
   "execution_count": 4,
   "metadata": {
    "collapsed": false
   },
   "outputs": [
    {
     "name": "stderr",
     "output_type": "stream",
     "text": [
      "/Users/yizhao/anaconda3/lib/python3.5/site-packages/numpy/lib/function_base.py:4116: RuntimeWarning: Invalid value encountered in percentile\n",
      "  interpolation=interpolation)\n"
     ]
    },
    {
     "data": {
      "text/html": [
       "<div>\n",
       "<table border=\"1\" class=\"dataframe\">\n",
       "  <thead>\n",
       "    <tr style=\"text-align: right;\">\n",
       "      <th></th>\n",
       "      <th>avg_dist</th>\n",
       "      <th>avg_rating_by_driver</th>\n",
       "      <th>avg_rating_of_driver</th>\n",
       "      <th>avg_surge</th>\n",
       "      <th>surge_pct</th>\n",
       "      <th>trips_in_first_30_days</th>\n",
       "      <th>weekday_pct</th>\n",
       "    </tr>\n",
       "  </thead>\n",
       "  <tbody>\n",
       "    <tr>\n",
       "      <th>count</th>\n",
       "      <td>50000.000000</td>\n",
       "      <td>49799.000000</td>\n",
       "      <td>41878.000000</td>\n",
       "      <td>50000.000000</td>\n",
       "      <td>50000.000000</td>\n",
       "      <td>50000.000000</td>\n",
       "      <td>50000.000000</td>\n",
       "    </tr>\n",
       "    <tr>\n",
       "      <th>mean</th>\n",
       "      <td>5.796827</td>\n",
       "      <td>4.778158</td>\n",
       "      <td>4.601559</td>\n",
       "      <td>1.074764</td>\n",
       "      <td>8.849536</td>\n",
       "      <td>2.278200</td>\n",
       "      <td>60.926084</td>\n",
       "    </tr>\n",
       "    <tr>\n",
       "      <th>std</th>\n",
       "      <td>5.707357</td>\n",
       "      <td>0.446652</td>\n",
       "      <td>0.617338</td>\n",
       "      <td>0.222336</td>\n",
       "      <td>19.958811</td>\n",
       "      <td>3.792684</td>\n",
       "      <td>37.081503</td>\n",
       "    </tr>\n",
       "    <tr>\n",
       "      <th>min</th>\n",
       "      <td>0.000000</td>\n",
       "      <td>1.000000</td>\n",
       "      <td>1.000000</td>\n",
       "      <td>1.000000</td>\n",
       "      <td>0.000000</td>\n",
       "      <td>0.000000</td>\n",
       "      <td>0.000000</td>\n",
       "    </tr>\n",
       "    <tr>\n",
       "      <th>25%</th>\n",
       "      <td>2.420000</td>\n",
       "      <td>NaN</td>\n",
       "      <td>NaN</td>\n",
       "      <td>1.000000</td>\n",
       "      <td>0.000000</td>\n",
       "      <td>0.000000</td>\n",
       "      <td>33.300000</td>\n",
       "    </tr>\n",
       "    <tr>\n",
       "      <th>50%</th>\n",
       "      <td>3.880000</td>\n",
       "      <td>NaN</td>\n",
       "      <td>NaN</td>\n",
       "      <td>1.000000</td>\n",
       "      <td>0.000000</td>\n",
       "      <td>1.000000</td>\n",
       "      <td>66.700000</td>\n",
       "    </tr>\n",
       "    <tr>\n",
       "      <th>75%</th>\n",
       "      <td>6.940000</td>\n",
       "      <td>NaN</td>\n",
       "      <td>NaN</td>\n",
       "      <td>1.050000</td>\n",
       "      <td>8.600000</td>\n",
       "      <td>3.000000</td>\n",
       "      <td>100.000000</td>\n",
       "    </tr>\n",
       "    <tr>\n",
       "      <th>max</th>\n",
       "      <td>160.960000</td>\n",
       "      <td>5.000000</td>\n",
       "      <td>5.000000</td>\n",
       "      <td>8.000000</td>\n",
       "      <td>100.000000</td>\n",
       "      <td>125.000000</td>\n",
       "      <td>100.000000</td>\n",
       "    </tr>\n",
       "  </tbody>\n",
       "</table>\n",
       "</div>"
      ],
      "text/plain": [
       "           avg_dist  avg_rating_by_driver  avg_rating_of_driver     avg_surge  \\\n",
       "count  50000.000000          49799.000000          41878.000000  50000.000000   \n",
       "mean       5.796827              4.778158              4.601559      1.074764   \n",
       "std        5.707357              0.446652              0.617338      0.222336   \n",
       "min        0.000000              1.000000              1.000000      1.000000   \n",
       "25%        2.420000                   NaN                   NaN      1.000000   \n",
       "50%        3.880000                   NaN                   NaN      1.000000   \n",
       "75%        6.940000                   NaN                   NaN      1.050000   \n",
       "max      160.960000              5.000000              5.000000      8.000000   \n",
       "\n",
       "          surge_pct  trips_in_first_30_days   weekday_pct  \n",
       "count  50000.000000            50000.000000  50000.000000  \n",
       "mean       8.849536                2.278200     60.926084  \n",
       "std       19.958811                3.792684     37.081503  \n",
       "min        0.000000                0.000000      0.000000  \n",
       "25%        0.000000                0.000000     33.300000  \n",
       "50%        0.000000                1.000000     66.700000  \n",
       "75%        8.600000                3.000000    100.000000  \n",
       "max      100.000000              125.000000    100.000000  "
      ]
     },
     "execution_count": 4,
     "metadata": {},
     "output_type": "execute_result"
    }
   ],
   "source": [
    "# summary statistics of the numerical variables\n",
    "data.describe()"
   ]
  },
  {
   "cell_type": "markdown",
   "metadata": {},
   "source": [
    "* Average distance traveled has the highest range among all variables\n",
    "* 'surge_pct' has a largest standard deviation relative to its mean value, about twice as much as the mean. "
   ]
  },
  {
   "cell_type": "code",
   "execution_count": 10,
   "metadata": {
    "collapsed": false
   },
   "outputs": [
    {
     "name": "stdout",
     "output_type": "stream",
     "text": [
      "                        avg_dist  avg_rating_by_driver  avg_rating_of_driver  \\\n",
      "avg_dist                1.000000              0.080540              0.034509   \n",
      "avg_rating_by_driver    0.080540              1.000000              0.123175   \n",
      "avg_rating_of_driver    0.034509              0.123175              1.000000   \n",
      "avg_surge              -0.081491              0.010597             -0.026189   \n",
      "surge_pct              -0.104414              0.020103             -0.003899   \n",
      "trips_in_first_30_days -0.136329             -0.039115             -0.011302   \n",
      "ultimate_black_user     0.032310              0.009343             -0.002086   \n",
      "weekday_pct             0.101652              0.020442              0.014630   \n",
      "\n",
      "                        avg_surge  surge_pct  trips_in_first_30_days  \\\n",
      "avg_dist                -0.081491  -0.104414               -0.136329   \n",
      "avg_rating_by_driver     0.010597   0.020103               -0.039115   \n",
      "avg_rating_of_driver    -0.026189  -0.003899               -0.011302   \n",
      "avg_surge                1.000000   0.793582               -0.001841   \n",
      "surge_pct                0.793582   1.000000                0.005720   \n",
      "trips_in_first_30_days  -0.001841   0.005720                1.000000   \n",
      "ultimate_black_user     -0.078791  -0.106861                0.112210   \n",
      "weekday_pct             -0.110071  -0.144918                0.050388   \n",
      "\n",
      "                        ultimate_black_user  weekday_pct  \n",
      "avg_dist                           0.032310     0.101652  \n",
      "avg_rating_by_driver               0.009343     0.020442  \n",
      "avg_rating_of_driver              -0.002086     0.014630  \n",
      "avg_surge                         -0.078791    -0.110071  \n",
      "surge_pct                         -0.106861    -0.144918  \n",
      "trips_in_first_30_days             0.112210     0.050388  \n",
      "ultimate_black_user                1.000000     0.035998  \n",
      "weekday_pct                        0.035998     1.000000  \n"
     ]
    },
    {
     "data": {
      "image/png": "[encoded data removed]",
      "text/plain": [
       "<matplotlib.figure.Figure at 0x118302048>"
      ]
     },
     "metadata": {},
     "output_type": "display_data"
    }
   ],
   "source": [
    "# visualize the amount of correlation among numeric variables\n",
    "\n",
    "corr_matrix =data.corr()\n",
    "print()\n",
    "sns.heatmap(corr_matrix, \n",
    "        xticklabels=corr_matrix.columns,\n",
    "        yticklabels=corr_matrix.columns)\n",
    "plt.show()"
   ]
  },
  {
   "cell_type": "markdown",
   "metadata": {},
   "source": [
    "#### Overall:\n",
    "* 'surge_pct' and 'avg_surg' are highly correlated, which is expected given that they are the percent of trips taken with surge multiplier > 1 and the average surge multiplier over all of this user’s trips, respectively\n",
    "* All other numeric variables have a correlation of less than 0.15 in absolute values\n",
    "\n",
    "#### Positive correlations\n",
    "* The 'average_rating_by_driver' is positively related with the 'average_rating_of_driver'. This is expected as the driver and passenger would have mutual perceptions of each other\n",
    "* It is also interesting that trips that has a higher than average distance is more likely to have a higher rating both of driver and by driver. This is likely because a longer trip allows for more time to make meaningful conversations. \n",
    "* Ultimate black users are more likely to make a higher percentage of trips during the weekdays\n",
    "* Users that are ultimate black users and or making a higher percentage of trips during the weekdays also appear to make on average both more trips ('trips_in_first_30_days') and longer distance trips ('avg_dist').\n",
    "\n",
    "#### Negative correlations\n",
    "* Users that make more trips are more likely to make shorter distance trips ('avg_dist' vs 'trips_in_first_30_days')\n",
    "* The surge multiplier indicators are negatively correlated with 'avg_dist', 'trips_in_first_30_days', 'ultimate_black_users', 'weekday_pct'\n",
    "* Users that make more trips in the first 30 days are more likely to make worse ratings either of driver or by driver. It could be that drivers that make more trips are more tired and less likely to entertain his/her riders, and frequent riders are first of all more likely to make shorter trips and then also likely to be bored or less interested in making conversations with drivers. "
   ]
  },
  {
   "cell_type": "code",
   "execution_count": 13,
   "metadata": {
    "collapsed": false
   },
   "outputs": [
    {
     "name": "stdout",
     "output_type": "stream",
     "text": [
      "Number of zero trip users: 15390\n"
     ]
    },
    {
     "data": {
      "image/png": "[encoded data removed]",
      "text/plain": [
       "<matplotlib.figure.Figure at 0x119be1240>"
      ]
     },
     "metadata": {},
     "output_type": "display_data"
    }
   ],
   "source": [
    "# plot the distribution of trips in first 30 days \n",
    "# categorized by phone, city\n",
    "violin_city = sns.violinplot(y = data.trips_in_first_30_days, data= data,\n",
    "                        x = data.city)\n",
    "print('Number of zero trip users:', sum(data.trips_in_first_30_days==0))\n",
    "axes = violin_city.axes\n",
    "\n",
    "violin_city.set(xlabel= 'City name', \n",
    "                ylabel= 'Number of trip in first 30 days')\n",
    "axes.set_ylim(0,)\n",
    "plt.show()"
   ]
  },
  {
   "cell_type": "markdown",
   "metadata": {},
   "source": [
    "* The distribution of number of trips made in the first 30 days is highly skewed to the left toward zero. \n",
    "* There are 15390 out of 50000 users being inactive, or made zero trips. That is 30.78% of our dataset. \n",
    "* King's Landing has a higher number of trips than Astapor and Winterfell on average."
   ]
  },
  {
   "cell_type": "code",
   "execution_count": 17,
   "metadata": {
    "collapsed": false
   },
   "outputs": [
    {
     "data": {
      "image/png": "[encoded data removed]",
      "text/plain": [
       "<matplotlib.figure.Figure at 0x119ed28d0>"
      ]
     },
     "metadata": {},
     "output_type": "display_data"
    }
   ],
   "source": [
    "violin_phone = sns.violinplot(y = data.trips_in_first_30_days, data= data,\n",
    "                        x = data.phone)\n",
    "axes = violin_phone.axes\n",
    "\n",
    "violin_phone.set(xlabel= 'Phone name', \n",
    "                ylabel= 'Number of trip in first 30 days')\n",
    "axes.set_ylim(0,)\n",
    "plt.show()"
   ]
  },
  {
   "cell_type": "markdown",
   "metadata": {},
   "source": [
    "* Consecutively , the number of trips in the first 30 days is on average the highest among iPhone users , then followed by Android and other phone users. "
   ]
  },
  {
   "cell_type": "markdown",
   "metadata": {},
   "source": [
    "### Construct predictive model\n",
    "* Since the goal is to distinguish inactive customers, a binary variable could indicate whether a user had at least one trip or not. "
   ]
  },
  {
   "cell_type": "code",
   "execution_count": 63,
   "metadata": {
    "collapsed": true
   },
   "outputs": [],
   "source": [
    "X = data.copy().drop('trips_in_first_30_days', axis = 1)\n",
    "\n",
    "# convert the boolean variable into a binary variable\n",
    "X.ultimate_black_user = X.ultimate_black_user * 1"
   ]
  },
  {
   "cell_type": "code",
   "execution_count": 64,
   "metadata": {
    "collapsed": false
   },
   "outputs": [
    {
     "data": {
      "text/html": [
       "<div>\n",
       "<table border=\"1\" class=\"dataframe\">\n",
       "  <thead>\n",
       "    <tr style=\"text-align: right;\">\n",
       "      <th></th>\n",
       "      <th>trips_in_first_30_days</th>\n",
       "    </tr>\n",
       "  </thead>\n",
       "  <tbody>\n",
       "    <tr>\n",
       "      <th>0</th>\n",
       "      <td>1</td>\n",
       "    </tr>\n",
       "    <tr>\n",
       "      <th>1</th>\n",
       "      <td>0</td>\n",
       "    </tr>\n",
       "    <tr>\n",
       "      <th>2</th>\n",
       "      <td>1</td>\n",
       "    </tr>\n",
       "    <tr>\n",
       "      <th>3</th>\n",
       "      <td>1</td>\n",
       "    </tr>\n",
       "    <tr>\n",
       "      <th>4</th>\n",
       "      <td>1</td>\n",
       "    </tr>\n",
       "  </tbody>\n",
       "</table>\n",
       "</div>"
      ],
      "text/plain": [
       "   trips_in_first_30_days\n",
       "0                       1\n",
       "1                       0\n",
       "2                       1\n",
       "3                       1\n",
       "4                       1"
      ]
     },
     "execution_count": 64,
     "metadata": {},
     "output_type": "execute_result"
    }
   ],
   "source": [
    "y = (data[['trips_in_first_30_days']] > 0) * 1 \n",
    "y[:5] # this is the bianry dependent variable"
   ]
  },
  {
   "cell_type": "code",
   "execution_count": 40,
   "metadata": {
    "collapsed": false
   },
   "outputs": [
    {
     "data": {
      "text/html": [
       "<div>\n",
       "<table border=\"1\" class=\"dataframe\">\n",
       "  <thead>\n",
       "    <tr style=\"text-align: right;\">\n",
       "      <th></th>\n",
       "      <th>phone_Android</th>\n",
       "      <th>phone_None</th>\n",
       "      <th>phone_iPhone</th>\n",
       "    </tr>\n",
       "  </thead>\n",
       "  <tbody>\n",
       "    <tr>\n",
       "      <th>0</th>\n",
       "      <td>0.0</td>\n",
       "      <td>0.0</td>\n",
       "      <td>1.0</td>\n",
       "    </tr>\n",
       "    <tr>\n",
       "      <th>1</th>\n",
       "      <td>1.0</td>\n",
       "      <td>0.0</td>\n",
       "      <td>0.0</td>\n",
       "    </tr>\n",
       "    <tr>\n",
       "      <th>2</th>\n",
       "      <td>0.0</td>\n",
       "      <td>0.0</td>\n",
       "      <td>1.0</td>\n",
       "    </tr>\n",
       "    <tr>\n",
       "      <th>3</th>\n",
       "      <td>0.0</td>\n",
       "      <td>0.0</td>\n",
       "      <td>1.0</td>\n",
       "    </tr>\n",
       "    <tr>\n",
       "      <th>4</th>\n",
       "      <td>1.0</td>\n",
       "      <td>0.0</td>\n",
       "      <td>0.0</td>\n",
       "    </tr>\n",
       "  </tbody>\n",
       "</table>\n",
       "</div>"
      ],
      "text/plain": [
       "   phone_Android  phone_None  phone_iPhone\n",
       "0            0.0         0.0           1.0\n",
       "1            1.0         0.0           0.0\n",
       "2            0.0         0.0           1.0\n",
       "3            0.0         0.0           1.0\n",
       "4            1.0         0.0           0.0"
      ]
     },
     "execution_count": 40,
     "metadata": {},
     "output_type": "execute_result"
    }
   ],
   "source": [
    "pd.get_dummies(data.phone, prefix='phone').head()"
   ]
  },
  {
   "cell_type": "code",
   "execution_count": 65,
   "metadata": {
    "collapsed": false
   },
   "outputs": [
    {
     "name": "stdout",
     "output_type": "stream",
     "text": [
      "<class 'pandas.core.frame.DataFrame'>\n",
      "RangeIndex: 50000 entries, 0 to 49999\n",
      "Data columns (total 13 columns):\n",
      "avg_dist                50000 non-null float64\n",
      "avg_rating_by_driver    49799 non-null float64\n",
      "avg_rating_of_driver    41878 non-null float64\n",
      "avg_surge               50000 non-null float64\n",
      "last_trip_date          50000 non-null object\n",
      "signup_date             50000 non-null object\n",
      "surge_pct               50000 non-null float64\n",
      "ultimate_black_user     50000 non-null int64\n",
      "weekday_pct             50000 non-null float64\n",
      "phone_Android           50000 non-null float64\n",
      "phone_None              50000 non-null float64\n",
      "city_Astapor            50000 non-null float64\n",
      "city_King's Landing     50000 non-null float64\n",
      "dtypes: float64(10), int64(1), object(2)\n",
      "memory usage: 5.0+ MB\n"
     ]
    }
   ],
   "source": [
    "# convert binary variable into dummy variables\n",
    "X = pd.concat([X, \n",
    "               pd.get_dummies(data.phone, prefix='phone').iloc[:,:-1]], \n",
    "              axis=1) # remove the last column in each dummy variable\n",
    "X = pd.concat([X, \n",
    "               pd.get_dummies(data.city, prefix='city').iloc[:,:-1]], \n",
    "              axis=1)\n",
    "X = X.drop(['phone', 'city'], axis=1)\n",
    "X.info()"
   ]
  },
  {
   "cell_type": "code",
   "execution_count": 66,
   "metadata": {
    "collapsed": false
   },
   "outputs": [
    {
     "data": {
      "text/plain": [
       "(50000, 11)"
      ]
     },
     "execution_count": 66,
     "metadata": {},
     "output_type": "execute_result"
    }
   ],
   "source": [
    "X = X.drop(['last_trip_date', 'signup_date'], axis = 1)\n",
    "# this feature overlaps with the predicted variable\n",
    "\n",
    "X.shape"
   ]
  },
  {
   "cell_type": "code",
   "execution_count": 61,
   "metadata": {
    "collapsed": false
   },
   "outputs": [],
   "source": [
    "from sklearn.feature_selection import SelectKBest, chi2\n",
    "from sklearn.cross_validation import train_test_split\n",
    "from sklearn import cross_validation #StratifiedKFold\n",
    "from sklearn.model_selection import GridSearchCV\n",
    "from sklearn.model_selection import cross_val_score\n",
    "from sklearn import model_selection # StratifiedKFold\n",
    "\n",
    "from sklearn import metrics\n",
    "from sklearn.preprocessing import MinMaxScaler\n",
    "from sklearn.decomposition import PCA\n",
    "from sklearn.linear_model import LogisticRegression\n",
    "from sklearn.svm import SVC\n",
    "from xgboost import XGBClassifier\n",
    "from sklearn.ensemble import RandomForestClassifier\n",
    "\n",
    "from sklearn.pipeline import Pipeline\n",
    "from pandas_ml import ConfusionMatrix\n",
    "import statsmodels.formula.api as sm"
   ]
  },
  {
   "cell_type": "markdown",
   "metadata": {},
   "source": [
    "### Simple logistic regression using statsmodel"
   ]
  },
  {
   "cell_type": "code",
   "execution_count": 67,
   "metadata": {
    "collapsed": true
   },
   "outputs": [],
   "source": [
    "# add an intercept term for the model\n",
    "X['intercept'] = 1.0\n",
    "\n",
    "less_row = X.dropna(axis = 0 )\n",
    "less_ft = X.dropna(axis = 1)"
   ]
  },
  {
   "cell_type": "code",
   "execution_count": 68,
   "metadata": {
    "collapsed": true
   },
   "outputs": [],
   "source": [
    "# split the dataset into a training and a testing set\n",
    "seed = 1\n",
    "\n",
    "X_train, X_test, y_train, y_test = train_test_split(less_ft, \n",
    "                                                y,\n",
    "                                                random_state=seed)"
   ]
  },
  {
   "cell_type": "code",
   "execution_count": 58,
   "metadata": {
    "collapsed": false
   },
   "outputs": [
    {
     "name": "stdout",
     "output_type": "stream",
     "text": [
      "(50000, 12) 50000\n"
     ]
    }
   ],
   "source": [
    "print(X.shape, y.size)"
   ]
  },
  {
   "cell_type": "code",
   "execution_count": 69,
   "metadata": {
    "collapsed": false
   },
   "outputs": [
    {
     "name": "stdout",
     "output_type": "stream",
     "text": [
      "Optimization terminated successfully.\n",
      "         Current function value: 0.611290\n",
      "         Iterations 5\n",
      "                             Logit Regression Results                             \n",
      "==================================================================================\n",
      "Dep. Variable:     trips_in_first_30_days   No. Observations:                37500\n",
      "Model:                              Logit   Df Residuals:                    37490\n",
      "Method:                               MLE   Df Model:                            9\n",
      "Date:                    Thu, 13 Apr 2017   Pseudo R-squ.:                0.009036\n",
      "Time:                            15:03:13   Log-Likelihood:                -22923.\n",
      "converged:                           True   LL-Null:                       -23132.\n",
      "                                            LLR p-value:                 1.917e-84\n",
      "=======================================================================================\n",
      "                          coef    std err          z      P>|z|      [95.0% Conf. Int.]\n",
      "---------------------------------------------------------------------------------------\n",
      "avg_dist               -0.0264      0.002    -13.671      0.000        -0.030    -0.023\n",
      "avg_surge               0.0073      0.088      0.083      0.933        -0.165     0.180\n",
      "surge_pct               0.0012      0.001      1.246      0.213        -0.001     0.003\n",
      "ultimate_black_user     0.2052      0.024      8.652      0.000         0.159     0.252\n",
      "weekday_pct             0.0002      0.000      0.642      0.521        -0.000     0.001\n",
      "phone_Android           0.0192      0.025      0.780      0.435        -0.029     0.068\n",
      "phone_None              0.6413      0.148      4.327      0.000         0.351     0.932\n",
      "city_Astapor           -0.2355      0.026     -9.144      0.000        -0.286    -0.185\n",
      "city_King's Landing    -0.3276      0.030    -11.024      0.000        -0.386    -0.269\n",
      "intercept               1.0012      0.093     10.787      0.000         0.819     1.183\n",
      "=======================================================================================\n"
     ]
    }
   ],
   "source": [
    "#define a logistic regression model and fit\n",
    "logit_fit = sm.Logit(exog = X_train, endog = y_train).fit()\n",
    "\n",
    "print(logit_fit.summary())"
   ]
  },
  {
   "cell_type": "markdown",
   "metadata": {},
   "source": [
    "* It seems that the surge indicators and percentage of weekday rides are not significant to whether users were active. In fact, only those that have been active could have those features computed. \n",
    "* Android phone also appears as insignificant, but it needs to remain in the model as it is a part of a categorical variable"
   ]
  },
  {
   "cell_type": "code",
   "execution_count": 73,
   "metadata": {
    "collapsed": false
   },
   "outputs": [
    {
     "name": "stdout",
     "output_type": "stream",
     "text": [
      "Optimization terminated successfully.\n",
      "         Current function value: 0.611355\n",
      "         Iterations 5\n",
      "                             Logit Regression Results                             \n",
      "==================================================================================\n",
      "Dep. Variable:     trips_in_first_30_days   No. Observations:                37500\n",
      "Model:                              Logit   Df Residuals:                    37493\n",
      "Method:                               MLE   Df Model:                            6\n",
      "Date:                    Thu, 13 Apr 2017   Pseudo R-squ.:                0.008930\n",
      "Time:                            15:12:51   Log-Likelihood:                -22926.\n",
      "converged:                           True   LL-Null:                       -23132.\n",
      "                                            LLR p-value:                 4.152e-86\n",
      "=======================================================================================\n",
      "                          coef    std err          z      P>|z|      [95.0% Conf. Int.]\n",
      "---------------------------------------------------------------------------------------\n",
      "avg_dist               -0.0268      0.002    -13.959      0.000        -0.031    -0.023\n",
      "ultimate_black_user     0.2001      0.024      8.488      0.000         0.154     0.246\n",
      "phone_Android           0.0180      0.025      0.731      0.465        -0.030     0.066\n",
      "phone_None              0.6390      0.148      4.312      0.000         0.349     0.930\n",
      "city_Astapor           -0.2319      0.026     -9.024      0.000        -0.282    -0.182\n",
      "city_King's Landing    -0.3236      0.030    -10.929      0.000        -0.382    -0.266\n",
      "intercept               1.0338      0.023     44.162      0.000         0.988     1.080\n",
      "=======================================================================================\n"
     ]
    }
   ],
   "source": [
    "# run the logistic regression again with less features\n",
    "less_ft = less_ft.drop(['avg_surge', 'surge_pct', 'weekday_pct'], axis = 1)\n",
    "X_train, X_test, y_train, y_test = train_test_split(less_ft, \n",
    "                                                y,\n",
    "                                                random_state=seed)\n",
    "logit = sm.Logit(exog = X_train, endog = y_train)\n",
    "logit_fit = logit.fit()\n",
    "\n",
    "print(logit_fit.summary())"
   ]
  },
  {
   "cell_type": "code",
   "execution_count": 82,
   "metadata": {
    "collapsed": false
   },
   "outputs": [],
   "source": [
    "# run the logistic regression again with less rows from dropping NA\n",
    "less_rows =pd.concat([X, y], axis = 1).dropna(axis = 0)\n",
    "y_less = less_rows.iloc[:,-1].values.ravel()\n",
    "\n",
    "less_rows = less_rows.drop(\n",
    "    ['avg_surge', 'surge_pct', 'weekday_pct','trips_in_first_30_days'], \n",
    "    axis = 1)\n"
   ]
  },
  {
   "cell_type": "code",
   "execution_count": 83,
   "metadata": {
    "collapsed": false
   },
   "outputs": [
    {
     "name": "stdout",
     "output_type": "stream",
     "text": [
      "Optimization terminated successfully.\n",
      "         Current function value: 0.584328\n",
      "         Iterations 5\n",
      "                           Logit Regression Results                           \n",
      "==============================================================================\n",
      "Dep. Variable:                      y   No. Observations:                31308\n",
      "Model:                          Logit   Df Residuals:                    31299\n",
      "Method:                           MLE   Df Model:                            8\n",
      "Date:                Fri, 14 Apr 2017   Pseudo R-squ.:                0.009039\n",
      "Time:                        10:36:29   Log-Likelihood:                -18294.\n",
      "converged:                       True   LL-Null:                       -18461.\n",
      "                                        LLR p-value:                 2.656e-67\n",
      "========================================================================================\n",
      "                           coef    std err          z      P>|z|      [95.0% Conf. Int.]\n",
      "----------------------------------------------------------------------------------------\n",
      "avg_dist                -0.0275      0.002    -11.577      0.000        -0.032    -0.023\n",
      "avg_rating_by_driver    -0.0391      0.033     -1.191      0.233        -0.103     0.025\n",
      "avg_rating_of_driver    -0.0591      0.021     -2.761      0.006        -0.101    -0.017\n",
      "ultimate_black_user      0.1935      0.027      7.301      0.000         0.142     0.245\n",
      "phone_Android         1.643e-05      0.028      0.001      1.000        -0.055     0.055\n",
      "phone_None               0.3285      0.168      1.957      0.050        -0.000     0.657\n",
      "city_Astapor            -0.2381      0.029     -8.099      0.000        -0.296    -0.180\n",
      "city_King's Landing     -0.3500      0.033    -10.527      0.000        -0.415    -0.285\n",
      "intercept                1.6559      0.176      9.418      0.000         1.311     2.000\n",
      "========================================================================================\n"
     ]
    }
   ],
   "source": [
    "X_train, X_test, y_train, y_test = train_test_split(less_rows, \n",
    "                                                y_less,\n",
    "                                                random_state=seed)\n",
    "logit = sm.Logit(exog = X_train, endog = y_train)\n",
    "logit_fit = logit.fit()\n",
    "\n",
    "print(logit_fit.summary())"
   ]
  },
  {
   "cell_type": "code",
   "execution_count": 91,
   "metadata": {
    "collapsed": false
   },
   "outputs": [
    {
     "name": "stdout",
     "output_type": "stream",
     "text": [
      "Optimization terminated successfully.\n",
      "         Current function value: 0.584351\n",
      "         Iterations 5\n",
      "                           Logit Regression Results                           \n",
      "==============================================================================\n",
      "Dep. Variable:                      y   No. Observations:                31308\n",
      "Model:                          Logit   Df Residuals:                    31300\n",
      "Method:                           MLE   Df Model:                            7\n",
      "Date:                Fri, 14 Apr 2017   Pseudo R-squ.:                0.009000\n",
      "Time:                        11:19:17   Log-Likelihood:                -18295.\n",
      "converged:                       True   LL-Null:                       -18461.\n",
      "                                        LLR p-value:                 7.496e-68\n",
      "========================================================================================\n",
      "                           coef    std err          z      P>|z|      [95.0% Conf. Int.]\n",
      "----------------------------------------------------------------------------------------\n",
      "avg_dist                -0.0277      0.002    -11.720      0.000        -0.032    -0.023\n",
      "avg_rating_of_driver    -0.0616      0.021     -2.890      0.004        -0.103    -0.020\n",
      "ultimate_black_user      0.1936      0.027      7.304      0.000         0.142     0.246\n",
      "phone_Android           -0.0004      0.028     -0.015      0.988        -0.056     0.055\n",
      "phone_None               0.3280      0.168      1.954      0.051        -0.001     0.657\n",
      "city_Astapor            -0.2405      0.029     -8.203      0.000        -0.298    -0.183\n",
      "city_King's Landing     -0.3544      0.033    -10.722      0.000        -0.419    -0.290\n",
      "intercept                1.4837      0.100     14.851      0.000         1.288     1.680\n",
      "========================================================================================\n"
     ]
    }
   ],
   "source": [
    "X_train, X_test, y_train, y_test = train_test_split(\n",
    "    less_rows.drop(['avg_rating_by_driver'],axis = 1), \n",
    "                                                y_less,\n",
    "                                                random_state=seed) \n",
    "logit = sm.Logit(exog = X_train, endog = y_train)\n",
    "logit_fit = logit.fit()\n",
    "\n",
    "print(logit_fit.summary())"
   ]
  },
  {
   "cell_type": "code",
   "execution_count": 84,
   "metadata": {
    "collapsed": false
   },
   "outputs": [
    {
     "name": "stdout",
     "output_type": "stream",
     "text": [
      "Less rows Logistic Regression Classifier\n",
      " mean f1_score score: \n",
      " 0.838453617061\n"
     ]
    }
   ],
   "source": [
    "# use kfold cross validation to validate the results\n",
    "kfold = cross_validation.StratifiedKFold(y_less, \n",
    "                                         n_folds=5, \n",
    "                                         random_state=seed) \n",
    "\n",
    "results = cross_val_score(LogisticRegression(C = 0.1),  \n",
    "                          less_rows, y_less,  \n",
    "                          cv=kfold,  \n",
    "                          scoring = metrics.make_scorer(metrics.f1_score))\n",
    "print('Less rows Logistic Regression Classifier\\n mean f1_score: \\n',\n",
    "      results.mean())"
   ]
  },
  {
   "cell_type": "code",
   "execution_count": 88,
   "metadata": {
    "collapsed": false
   },
   "outputs": [
    {
     "name": "stdout",
     "output_type": "stream",
     "text": [
      "Less Features Logistic Regression Classifier\n",
      " mean f1_score: \n",
      " 0.817161323156\n"
     ]
    }
   ],
   "source": [
    "# use kfold cross validation to validate the results\n",
    "y = y[['trips_in_first_30_days']].values.ravel()\n",
    "\n",
    "kfold = cross_validation.StratifiedKFold(y, n_folds=5,  random_state=seed) \n",
    "\n",
    "results = cross_val_score(LogisticRegression(C = 0.1),  \n",
    "                          less_ft, y,  \n",
    "                          cv=kfold,  \n",
    "                          scoring = metrics.make_scorer(metrics.f1_score))\n",
    "print('Less Features Logistic Regression Classifier\\n mean f1_score: \\n',\n",
    "      results.mean())"
   ]
  },
  {
   "cell_type": "markdown",
   "metadata": {},
   "source": [
    "* Best performing logistic regressin model is using the following features:'avg_dist', 'ultimate_black_user', 'phone_None','city_Astapor', 'city_King's Landing', 'intercept'\n",
    "* We shall attempt other ML methods with these features"
   ]
  },
  {
   "cell_type": "code",
   "execution_count": 97,
   "metadata": {
    "collapsed": false
   },
   "outputs": [
    {
     "name": "stdout",
     "output_type": "stream",
     "text": [
      "<class 'pandas.core.frame.DataFrame'>\n",
      "Int64Index: 41744 entries, 0 to 49998\n",
      "Data columns (total 7 columns):\n",
      "avg_dist                41744 non-null float64\n",
      "avg_rating_of_driver    41744 non-null float64\n",
      "ultimate_black_user     41744 non-null int64\n",
      "phone_None              41744 non-null float64\n",
      "city_Astapor            41744 non-null float64\n",
      "city_King's Landing     41744 non-null float64\n",
      "intercept               41744 non-null float64\n",
      "dtypes: float64(6), int64(1)\n",
      "memory usage: 2.5 MB\n",
      "41744\n"
     ]
    }
   ],
   "source": [
    "#less_rows = less_rows.drop(['avg_rating_by_driver', 'phone_Android'], axis = 1)\n",
    "less_rows.info()\n",
    "print(len(y_less))"
   ]
  },
  {
   "cell_type": "code",
   "execution_count": 98,
   "metadata": {
    "collapsed": false
   },
   "outputs": [
    {
     "name": "stdout",
     "output_type": "stream",
     "text": [
      "Less rows SVM Classifier\n",
      " mean f1_score: \n",
      " 0.838864009771\n"
     ]
    }
   ],
   "source": [
    "kfold = cross_validation.StratifiedKFold(y_less, \n",
    "                                         n_folds=5, \n",
    "                                         random_state=seed) \n",
    "results = cross_val_score(SVC(C = 0.1),  \n",
    "                          less_rows, y_less,  \n",
    "                          cv=kfold, scoring = metrics.make_scorer(metrics.f1_score))\n",
    "print('Less rows SVM Classifier\\n mean f1_score: \\n',\n",
    "      results.mean())"
   ]
  },
  {
   "cell_type": "code",
   "execution_count": 99,
   "metadata": {
    "collapsed": false
   },
   "outputs": [
    {
     "name": "stdout",
     "output_type": "stream",
     "text": [
      "Less rows SVM Classifier\n",
      " mean f1_score: \n",
      " 0.838515713476\n"
     ]
    }
   ],
   "source": [
    "results = cross_val_score(SVC(C = 1),  \n",
    "                          less_rows, y_less,  \n",
    "                          cv=kfold, scoring = metrics.make_scorer(metrics.f1_score))\n",
    "print('Less rows SVM Classifier\\n mean f1_score: \\n',\n",
    "      results.mean())"
   ]
  },
  {
   "cell_type": "markdown",
   "metadata": {},
   "source": [
    "* Changing the C parameter didn't make much difference\n",
    "* The SVM result is very similar to that of the Logistic Regression, being both linear methods"
   ]
  },
  {
   "cell_type": "code",
   "execution_count": 100,
   "metadata": {
    "collapsed": false
   },
   "outputs": [
    {
     "name": "stdout",
     "output_type": "stream",
     "text": [
      "avg_dist marginal change:  -0.00421067078159\n"
     ]
    }
   ],
   "source": [
    "a = 1.4837\n",
    "\n",
    "def get_diff(a, b):\n",
    "    return( 1/(1 + np.exp(- a - b)) - 1/(1 + np.exp(- a)))\n",
    "\n",
    "print('avg_dist marginal change: ', get_diff(a,  -0.0277))"
   ]
  },
  {
   "cell_type": "code",
   "execution_count": 101,
   "metadata": {
    "collapsed": false
   },
   "outputs": [
    {
     "name": "stdout",
     "output_type": "stream",
     "text": [
      "avg_rating_of_driver:  -0.00946337441883\n"
     ]
    }
   ],
   "source": [
    "print('avg_rating_of_driver: ', get_diff(a,-0.0616 ))\n",
    "# change in probability of being an active user from \n",
    "# increasing average rating of driver by 1"
   ]
  },
  {
   "cell_type": "code",
   "execution_count": 102,
   "metadata": {
    "collapsed": false
   },
   "outputs": [
    {
     "name": "stdout",
     "output_type": "stream",
     "text": [
      "ultimate_black_user:  0.0274158820169\n"
     ]
    }
   ],
   "source": [
    "print('ultimate_black_user: ', get_diff(a, 0.1936))"
   ]
  },
  {
   "cell_type": "code",
   "execution_count": 103,
   "metadata": {
    "collapsed": false
   },
   "outputs": [
    {
     "name": "stdout",
     "output_type": "stream",
     "text": [
      "phone_None:  0.0444364156535\n"
     ]
    }
   ],
   "source": [
    "print('phone_None: ', get_diff(a, 0.3280))\n",
    "# those that don't use smart phone has this much higer chance of being active users\n"
   ]
  },
  {
   "cell_type": "code",
   "execution_count": 104,
   "metadata": {
    "collapsed": false
   },
   "outputs": [
    {
     "name": "stdout",
     "output_type": "stream",
     "text": [
      "City King's Landing:  -0.0594211000538\n"
     ]
    }
   ],
   "source": [
    "print(\"City King's Landing: \", get_diff(a, logit_fit.params[\"city_King's Landing\"]))\n",
    "# those in King's Landing have 5.9 percentage points less probability of being active users"
   ]
  },
  {
   "cell_type": "markdown",
   "metadata": {},
   "source": [
    "#### Diagnostic of logistic regression"
   ]
  },
  {
   "cell_type": "code",
   "execution_count": 111,
   "metadata": {
    "collapsed": false
   },
   "outputs": [
    {
     "data": {
      "text/plain": [
       "Predicted   0      1  __all__\n",
       "Actual                       \n",
       "0          27   8631     8658\n",
       "1          39  22611    22650\n",
       "__all__    66  31242    31308"
      ]
     },
     "execution_count": 111,
     "metadata": {},
     "output_type": "execute_result"
    }
   ],
   "source": [
    "pred_train = logit_fit.predict(X_train)\n",
    "pred_test = logit_fit.predict(X_test)\n",
    "\n",
    "ConfusionMatrix(y_pred= (pred_train > 0.5) * 1, y_true= y_train)"
   ]
  },
  {
   "cell_type": "markdown",
   "metadata": {},
   "source": [
    "* There is a high number of false positives, or falsely predicted active users."
   ]
  },
  {
   "cell_type": "code",
   "execution_count": null,
   "metadata": {
    "collapsed": true
   },
   "outputs": [],
   "source": []
  }
 ],
 "metadata": {
  "anaconda-cloud": {},
  "kernelspec": {
   "display_name": "Python [conda root]",
   "language": "python",
   "name": "conda-root-py"
  },
  "language_info": {
   "codemirror_mode": {
    "name": "ipython",
    "version": 3
   },
   "file_extension": ".py",
   "mimetype": "text/x-python",
   "name": "python",
   "nbconvert_exporter": "python",
   "pygments_lexer": "ipython3",
   "version": "3.5.2"
  }
 },
 "nbformat": 4,
 "nbformat_minor": 1
}
